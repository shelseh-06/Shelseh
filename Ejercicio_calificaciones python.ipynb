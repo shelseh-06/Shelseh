{
  "nbformat": 4,
  "nbformat_minor": 0,
  "metadata": {
    "colab": {
      "provenance": []
    },
    "kernelspec": {
      "name": "python3",
      "display_name": "Python 3"
    },
    "language_info": {
      "name": "python"
    }
  },
  "cells": [
    {
      "cell_type": "markdown",
      "source": [
        "Shelseh Nicolle Olaya Badillo"
      ],
      "metadata": {
        "id": "outuNTbCUWqq"
      }
    },
    {
      "cell_type": "markdown",
      "source": [
        "### **Ejemplo 17. Ejercicio basico aplicado**\n",
        "\n",
        "La profe Karin Yuliana quiere calcular el promedio de calificaciones de algunos campista en diferentes asignaturas.<br>\n",
        "\n",
        "La informacion de los campistas es:\n",
        "\n",
        "```python\n",
        "campista1 = {\"nombre\": \"Ana\", \"calificaciones\": {\"Ingles\": 85, \"Empleabilidad\": 90, \"Analisis de Datos\": 88}}\n",
        "campista2 = {\"nombre\": \"Luis\", \"calificaciones\": {\"Ingles\": 78, \"Empleabilidad\": 85, \"Analisis de Datos\": 92}}\n",
        "campista3 = {\"nombre\": \"Carlos\", \"calificaciones\": {\"Ingles\": 90, \"Empleabilidad\": 88, \"Analisis de Datos\": 95}}\n",
        "campista4 = {\"nombre\": \"Elena\", \"calificaciones\": {\"Ingles\": 82, \"Empleabilidad\": 80, \"Analisis de Datos\": 85}}\n",
        "```\n",
        "\n",
        "**Requerimientos:**\n",
        "\n",
        "* Calcular el promedio de calificaciones por asignatura.\n",
        "\n",
        "* Calcular el promedio de calificaciones por estudiante.\n",
        "\n",
        "**Nota:** Se debe realizar de manera manual, sin utilizar funciones especiales como **``sum()``**, **`media()`**, etc."
      ],
      "metadata": {
        "id": "py4PVlz3S4L0"
      }
    },
    {
      "cell_type": "code",
      "source": [
        "# Promedio de calificaciones de algunos campistas en diferentes asignaturas\n",
        "campista1 = {\"nombre\": \"Ana\", \"calificaciones\": {\"Ingles\": 85, \"Empleabilidad\": 90, \"Analisis de Datos\": 88}}\n",
        "campista2 = {\"nombre\": \"Luis\", \"calificaciones\": {\"Ingles\": 78, \"Empleabilidad\": 85, \"Analisis de Datos\": 92}}\n",
        "campista3 = {\"nombre\": \"Carlos\", \"calificaciones\": {\"Ingles\": 90, \"Empleabilidad\": 88, \"Analisis de Datos\":95}}\n",
        "campista4 = {\"nombre\": \"Elena\", \"calificaciones\": {\"Ingles\": 82, \"Empleabilidad\": 80, \"Analisis de Datos\": 85}}\n",
        "print(\"\")\n",
        "print(\"Promedio de calificaciones por asignatura\")\n",
        "# Promedio de Inglés\n",
        "promedio_ingles = (campista1[\"calificaciones\"] [\"Ingles\"]+\n",
        "                   campista2[\"calificaciones\"] [\"Ingles\"]+\n",
        "                   campista3[\"calificaciones\"] [\"Ingles\"]+\n",
        "                   campista4[\"calificaciones\"] [\"Ingles\"])/4\n",
        "print(f\"El promedio de calificaciones de la asignatura de Ingles es: {promedio_ingles}\")\n",
        "# Promedio de Empleabilidad\n",
        "promedio_empleabilidad = (campista1[\"calificaciones\"] [\"Empleabilidad\"]+\n",
        "                          campista2[\"calificaciones\"] [\"Empleabilidad\"]+\n",
        "                          campista3[\"calificaciones\"] [\"Empleabilidad\"]+\n",
        "                          campista4[\"calificaciones\"] [\"Empleabilidad\"])/4\n",
        "print(f\"El promedio de calificaciones de la asignatura de Empleabilidad es: {promedio_empleabilidad}\")\n",
        "# Promedio de Analisis de Datos\n",
        "promedio_analisis_datos = (campista1[\"calificaciones\"] [\"Analisis de Datos\"]+\n",
        "                          campista2[\"calificaciones\"] [\"Analisis de Datos\"]+\n",
        "                          campista3[\"calificaciones\"] [\"Analisis de Datos\"]+\n",
        "                          campista4[\"calificaciones\"] [\"Analisis de Datos\"])/4\n",
        "print(f\"El promedio de calificaciones de la asignatura de Analisis de Datos es: {promedio_analisis_datos}\")\n",
        "print(\"\")\n",
        "print(\"Promedio de calificaciones por estudiante\")\n",
        "# Promedio de Ana\n",
        "promedio_ana = (campista1 [\"calificaciones\"] [\"Ingles\"]+\n",
        "                campista1 [\"calificaciones\"] [\"Empleabilidad\"]+\n",
        "                campista1 [\"calificaciones\"] [\"Analisis de Datos\"])/3\n",
        "print(f\"El promedio de calificaciones de Ana es: {promedio_ana:.2f}\")\n",
        "# Promedio de Luis\n",
        "promedio_luis = (campista2 [\"calificaciones\"] [\"Ingles\"]+\n",
        "                campista2 [\"calificaciones\"] [\"Empleabilidad\"]+\n",
        "                campista2 [\"calificaciones\"] [\"Analisis de Datos\"])/3\n",
        "print(f\"El promedio de calificaciones de Luis es: {promedio_luis}\")\n",
        "# Promedio de Carlos\n",
        "promedio_carlos = (campista3 [\"calificaciones\"] [\"Ingles\"]+\n",
        "                campista3 [\"calificaciones\"] [\"Empleabilidad\"]+\n",
        "                campista3 [\"calificaciones\"] [\"Analisis de Datos\"])/3\n",
        "print(f\"El promedio de calificaciones de Carlos es: {promedio_carlos}\")\n",
        "promedio_elena = (campista4 [\"calificaciones\"] [\"Ingles\"]+\n",
        "                campista4 [\"calificaciones\"] [\"Empleabilidad\"]+\n",
        "                campista4 [\"calificaciones\"] [\"Analisis de Datos\"])/3\n",
        "print(f\"El promedio de calificaciones de Elena es: {promedio_elena:.2f}\")"
      ],
      "metadata": {
        "colab": {
          "base_uri": "https://localhost:8080/"
        },
        "id": "98HZhJ9-wpcT",
        "outputId": "0b2e466d-72af-4b0d-825b-3e2cb406acbf"
      },
      "execution_count": 5,
      "outputs": [
        {
          "output_type": "stream",
          "name": "stdout",
          "text": [
            "\n",
            "Promedio de calificaciones por asignatura\n",
            "El promedio de calificaciones de la asignatura de Ingles es: 83.75\n",
            "El promedio de calificaciones de la asignatura de Empleabilidad es: 85.75\n",
            "El promedio de calificaciones de la asignatura de Analisis de Datos es: 90.0\n",
            "\n",
            "Promedio de calificaciones por estudiante\n",
            "El promedio de calificaciones de Ana es: 87.67\n",
            "El promedio de calificaciones de Luis es: 85.0\n",
            "El promedio de calificaciones de Carlos es: 91.0\n",
            "El promedio de calificaciones de Elena es: 82.33\n"
          ]
        }
      ]
    }
  ]
}